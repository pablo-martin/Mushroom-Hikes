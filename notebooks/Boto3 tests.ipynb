{
 "cells": [
  {
   "cell_type": "markdown",
   "metadata": {},
   "source": [
    "# Data Exploration in Cloud "
   ]
  },
  {
   "cell_type": "code",
   "execution_count": null,
   "metadata": {
    "collapsed": true
   },
   "outputs": [],
   "source": [
    "import os\n",
    "import pickle\n",
    "import requests\n",
    "import pandas as pd\n",
    "import numpy as np"
   ]
  },
  {
   "cell_type": "code",
   "execution_count": null,
   "metadata": {
    "collapsed": true
   },
   "outputs": [],
   "source": [
    "import boto3\n",
    "\n",
    "# Let's use Amazon S3\n",
    "s3 = boto3.resource('s3')\n",
    "for bucket in s3.buckets.all():\n",
    "    print(bucket.name)"
   ]
  },
  {
   "cell_type": "code",
   "execution_count": null,
   "metadata": {
    "collapsed": true
   },
   "outputs": [],
   "source": [
    "s3.Bucket('pablo-mushroom-bucket').download_file(\n",
    "                            'combined_dataset_df.p', 'data.p')\n",
    "df = pickle.load(open('data.p','rb'), encoding='latin1')"
   ]
  },
  {
   "cell_type": "code",
   "execution_count": null,
   "metadata": {
    "collapsed": true
   },
   "outputs": [],
   "source": [
    "taxa_fields = ['Phylum','Class','Order','Family','Genus','Species']\n",
    "\n",
    "def create_path_name(series):\n",
    "    folders = [series.get(w) for w in taxa_fields]\n",
    "    print()\n",
    "    if not sum([not isinstance(w,str) for w in folders ]):\n",
    "        return '/'.join([series.get(w) for w in taxa_fields])\n",
    "    else:\n",
    "        return None\n",
    "    \n",
    "def generate_url_image_API_MO(image_id):\n",
    "    if not np.isnan(image_id):\n",
    "        url = 'https://images.mushroomobserver.org/960/' \\\n",
    "                                    + str(int(image_id)) + '.jpg'\n",
    "        return url\n",
    "    else:\n",
    "        return None\n",
    "    \n",
    "def upload_image_S3(cid, target):\n",
    "    url = generate_url_image_API_MO(cid)\n",
    "    r = requests.get(url, allow_redirects=True)\n",
    "    open('pics/test.jpg', 'wb').write(r.content)\n",
    "\n",
    "    # Upload a new file\n",
    "    data = open('pics/test.jpg', 'rb')\n",
    "    s3.Bucket('pablo-mushroom-bucket').put_object(Key=target, Body=data)"
   ]
  },
  {
   "cell_type": "code",
   "execution_count": null,
   "metadata": {
    "collapsed": true
   },
   "outputs": [],
   "source": [
    "#considering DSA solution\n",
    "df"
   ]
  }
 ],
 "metadata": {
  "kernelspec": {
   "display_name": "Python 2",
   "language": "python",
   "name": "python2"
  },
  "language_info": {
   "codemirror_mode": {
    "name": "ipython",
    "version": 2
   },
   "file_extension": ".py",
   "mimetype": "text/x-python",
   "name": "python",
   "nbconvert_exporter": "python",
   "pygments_lexer": "ipython2",
   "version": "2.7.3"
  }
 },
 "nbformat": 4,
 "nbformat_minor": 2
}
